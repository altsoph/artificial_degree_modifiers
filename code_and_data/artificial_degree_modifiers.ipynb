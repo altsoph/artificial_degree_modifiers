{
 "cells": [
  {
   "cell_type": "code",
   "execution_count": null,
   "metadata": {},
   "outputs": [],
   "source": [
    "import time\n",
    "import datetime\n",
    "import pickle\n",
    "import random\n",
    "\n",
    "import torch\n",
    "import numpy as np\n",
    "import pandas as pd\n",
    "import matplotlib.pyplot as plt\n",
    "import transformers\n",
    "\n",
    "from torch.utils.data import random_split\n",
    "from collections import defaultdict\n",
    "from transformers import BertForMaskedLM, BertTokenizer\n",
    "from torch.utils.data import DataLoader, RandomSampler, SequentialSampler\n",
    "from transformers import get_linear_schedule_with_warmup\n",
    "\n",
    "device = 'cuda:0'\n",
    "softmax = torch.nn.Softmax(dim=-1)\n",
    "torch.manual_seed(0)\n",
    "np.random.seed(0)\n",
    "\n",
    "tokenizer = BertTokenizer.from_pretrained('bert-base-uncased')\n",
    "model = BertForMaskedLM.from_pretrained('bert-base-uncased')\n",
    "device = torch.device('cuda:0')\n",
    "model.to(device)"
   ]
  },
  {
   "cell_type": "code",
   "execution_count": null,
   "metadata": {},
   "outputs": [],
   "source": [
    "# here we are adding 3 groups of new tokens:\n",
    "# * group 1 will be trained for target degree modification (3 subgroups for low/middle/high)\n",
    "# * group 2 will be trained with randomly shuffled degree modification contexts\n",
    "# * group 3 will be kept untrained\n",
    "\n",
    "mod_indicies = []\n",
    "for tok in range(99):\n",
    "    tokenizer.add_tokens([f'[mod{tok%3}_{tok}]'])\n",
    "    mod_indicies.append( tokenizer(f'[mod{tok%3}_{tok}]')['input_ids'][1:-1][0] )\n",
    "rand_mod_indicies = []\n",
    "for tok in range(99):\n",
    "    tokenizer.add_tokens([f'[modR_{tok}]'])\n",
    "    rand_mod_indicies.append( tokenizer(f'[modR_{tok}]')['input_ids'][1:-1][0] )\n",
    "untrained_mod_indicies = []    \n",
    "for tok in range(99):\n",
    "    tokenizer.add_tokens([f'[modU_{tok}]'])\n",
    "    untrained_mod_indicies.append( tokenizer(f'[modU_{tok}]')['input_ids'][1:-1][0] )\n",
    "\n",
    "model.resize_token_embeddings(len(tokenizer))\n",
    "\n",
    "reverse_vocab = {y:x for x, y in tokenizer.vocab.items()}\n",
    "for x,y in tokenizer.get_added_vocab().items():\n",
    "    reverse_vocab[y] = x"
   ]
  },
  {
   "cell_type": "code",
   "execution_count": null,
   "metadata": {},
   "outputs": [],
   "source": [
    "# we will use prepared artificial sentences\n",
    "pos_neg = []\n",
    "for neg, pos in zip(open('10k_neg.txt', encoding='utf-8'), open('10k_aff.txt', encoding='utf-8')):\n",
    "    pos_neg.append( (pos.strip(), neg.strip()) )\n",
    "    \n",
    "ten_k = pd.read_csv('modifiers_all.csv',index_col=0).head(10000)\n",
    "\n",
    "genders = pickle.load( open( \"noun_genders.pkl\", \"rb\" ) )"
   ]
  },
  {
   "cell_type": "code",
   "execution_count": null,
   "metadata": {},
   "outputs": [],
   "source": [
    "# we also will use these special particles to \n",
    "# (we automatically mined them previously based on well known degree modifiers)\n",
    "\n",
    "low_helpers = ['well', 'actually', 'now', 'but', 'however', 'still', 'so', 'why', 'anyway', 'sure']\n",
    "high_helpers = ['yes', 'oh', 'sir', 'absolutely', 'god', 'damn', 'remember', 'wow', 'seriously', 'man']"
   ]
  },
  {
   "cell_type": "code",
   "execution_count": null,
   "metadata": {},
   "outputs": [],
   "source": [
    "def _process(sentence, tokenizer, model):\n",
    "    sentence = sentence.replace('[mask]', '[MASK]')\n",
    "    tokens = tokenizer.tokenize(sentence)\n",
    "    tokens = [\"[CLS]\"] + tokens + [\"[SEP]\"]\n",
    "\n",
    "    input_ids = tokenizer.convert_tokens_to_ids(tokens)\n",
    "    segment_ids = [0] * len(tokens)\n",
    "    n = tokens.index('[MASK]')\n",
    "\n",
    "    input_ids = torch.tensor([input_ids,], dtype=torch.long).to(device)\n",
    "    segment_ids = torch.tensor([segment_ids,], dtype=torch.long).to(device)\n",
    "    \n",
    "    logits = model(input_ids, token_type_ids=segment_ids)[0]\n",
    "    probs = softmax(logits)\n",
    "\n",
    "    return probs[0][n].cpu().detach().numpy()\n",
    "\n",
    "def new_mod_preds(mod_index, pos_neg, tokenizer, model, dbg=False):\n",
    "    result = defaultdict(list)\n",
    "    \n",
    "    for idx,(pos, neg)  in enumerate(pos_neg):\n",
    "        preds_aff = _process(pos.lower(), tokenizer, model)\n",
    "        preds_neg = _process(neg.lower(), tokenizer, model)\n",
    "        for i, m_idx in enumerate(mod_index):\n",
    "            diff = preds_aff[m_idx].item() - preds_neg[m_idx].item()\n",
    "            result[i].append(diff)\n",
    "        if dbg and idx and not idx % 1000:\n",
    "            print( np.mean(np.array(list(result.values())), axis=1)[:10] )\n",
    "    return result\n",
    "\n",
    "def evaluate_polarity(mod_index, pos_neg, tokenizer, model):\n",
    "    result = new_mod_preds(mod_index, pos_neg, tokenizer, model)\n",
    "    rr = np.array(list(result.values()))\n",
    "#     print( np.count_nonzero(rr>0.,axis=1)/rr.shape[1] )\n",
    "    return np.count_nonzero(rr>0.,axis=1)/rr.shape[1]"
   ]
  },
  {
   "cell_type": "code",
   "execution_count": null,
   "metadata": {},
   "outputs": [],
   "source": [
    "# first we will evaluate polarity of new untrained tokens to make sure it is random in each of groups"
   ]
  },
  {
   "cell_type": "code",
   "execution_count": null,
   "metadata": {},
   "outputs": [],
   "source": [
    "random_embs_polarity = evaluate_polarity(mod_indicies, pos_neg, tokenizer, model)\n",
    "plt.hist(random_embs_polarity)\n",
    "plt.show()"
   ]
  },
  {
   "cell_type": "code",
   "execution_count": null,
   "metadata": {},
   "outputs": [],
   "source": [
    "random_embs_polarity2 = evaluate_polarity(rand_mod_indicies, pos_neg, tokenizer, model)\n",
    "plt.hist(random_embs_polarity2)\n",
    "plt.show()"
   ]
  },
  {
   "cell_type": "code",
   "execution_count": null,
   "metadata": {},
   "outputs": [],
   "source": [
    "random_embs_polarity3 = evaluate_polarity(untrained_mod_indicies, pos_neg, tokenizer, model)\n",
    "plt.hist(random_embs_polarity3)\n",
    "plt.show()"
   ]
  },
  {
   "cell_type": "code",
   "execution_count": null,
   "metadata": {},
   "outputs": [],
   "source": [
    "# next we will evaluate the degree modification property of our new tokens \n",
    "# (again, it supposed to be random)\n",
    "\n",
    "def assess_batch(texts):\n",
    "    batch_input_ids = []\n",
    "    batch_segment_ids = []\n",
    "    n_pos = []\n",
    "    for sentence in texts:\n",
    "        sentence = sentence.replace('[mask]', '[MASK]')\n",
    "        tokens = tokenizer.tokenize(sentence)\n",
    "        tokens = [\"[CLS]\"] + tokens + [\"[SEP]\"]\n",
    "        input_ids = tokenizer.convert_tokens_to_ids(tokens)\n",
    "        segment_ids = [0] * len(tokens)\n",
    "        n = tokens.index('[MASK]')\n",
    "        n_pos.append( n )\n",
    "        batch_input_ids.append( input_ids )\n",
    "        batch_segment_ids.append( segment_ids )\n",
    "\n",
    "    input_ids = torch.tensor(batch_input_ids, dtype=torch.long).to(device)\n",
    "    segment_ids = torch.tensor(batch_segment_ids, dtype=torch.long).to(device)\n",
    "    logits = model(input_ids, token_type_ids=segment_ids)[0]\n",
    "    probs = softmax(logits)\n",
    "    \n",
    "    res = []\n",
    "    for n, probs_item in zip(n_pos, probs):\n",
    "        res.append( probs_item[n].cpu().detach().numpy() )\n",
    "    return res\n",
    "\n",
    "assess_modifiers_indicies = mod_indicies[:]\n",
    "assess_modifiers_indicies.extend( rand_mod_indicies[:] )\n",
    "assess_modifiers_indicies.extend( untrained_mod_indicies[:] )\n",
    "assess_modifiers_indicies.append( tokenizer.vocab['somewhat'] )\n",
    "assess_modifiers_indicies.append( tokenizer.vocab['very'] )\n",
    "\n",
    "degree_mod_scores = defaultdict(int)\n",
    "\n",
    "for idx,(id,row) in enumerate(ten_k.iterrows()):\n",
    "    if idx%19: continue # we don't need the full data, it's enought to use a subsample\n",
    "    words = row['sentence'].split(' ')\n",
    "    adjective = words[3].rstrip('.')\n",
    "    noun = words[1]\n",
    "    copula = words[2]\n",
    "    sents = []\n",
    "    for h in low_helpers+high_helpers:\n",
    "        if copula == 'is':\n",
    "            sent = f'Is the {noun} {adjective}? {h}, {genders[noun]} is [MASK] {adjective}.'\n",
    "        else:\n",
    "            sent = f'Are the {noun} {adjective}? {h}, {genders[noun]} are [MASK] {adjective}.'\n",
    "        sents.append( sent.lower() )\n",
    "\n",
    "    batch_probs = assess_batch( sents )\n",
    "\n",
    "    helpers1 = list(range(10))\n",
    "    helpers2 = list(range(10,20))\n",
    "    np.random.shuffle(helpers1)\n",
    "    np.random.shuffle(helpers2)        \n",
    "\n",
    "    for c in assess_modifiers_indicies:\n",
    "        for h1,h2 in zip(helpers1,helpers2):\n",
    "            degree_mod_scores['_total_'] += 1\n",
    "            if batch_probs[h1][c]<batch_probs[h2][c]:\n",
    "                degree_mod_scores[reverse_vocab[c]] += 1\n",
    "\n",
    "tt = degree_mod_scores['_total_']/len(assess_modifiers_indicies)\n",
    "\n",
    "random_embs_dmod = []        \n",
    "for m in mod_indicies:\n",
    "    random_embs_dmod.append( degree_mod_scores[reverse_vocab[m]]/tt )\n",
    "random_embs_dmod2 = []        \n",
    "for m in rand_mod_indicies:\n",
    "    random_embs_dmod2.append( degree_mod_scores[reverse_vocab[m]]/tt )\n",
    "random_embs_dmod3 = []        \n",
    "for m in untrained_mod_indicies:\n",
    "    random_embs_dmod3.append( degree_mod_scores[reverse_vocab[m]]/tt )"
   ]
  },
  {
   "cell_type": "code",
   "execution_count": null,
   "metadata": {},
   "outputs": [],
   "source": [
    "plt.hist(random_embs_dmod)\n",
    "plt.show()"
   ]
  },
  {
   "cell_type": "code",
   "execution_count": null,
   "metadata": {},
   "outputs": [],
   "source": [
    "plt.hist(random_embs_dmod2)\n",
    "plt.show()"
   ]
  },
  {
   "cell_type": "code",
   "execution_count": null,
   "metadata": {},
   "outputs": [],
   "source": [
    "plt.hist(random_embs_dmod3)\n",
    "plt.show()"
   ]
  },
  {
   "cell_type": "code",
   "execution_count": null,
   "metadata": {},
   "outputs": [],
   "source": [
    "# let's check it together -- polarity and degree modifying properties\n",
    "\n",
    "plt.scatter(random_embs_dmod3, random_embs_polarity3)\n",
    "plt.xlabel('degree', fontsize=18)\n",
    "plt.ylabel('polarity', fontsize=18)\n",
    "plt.show()"
   ]
  },
  {
   "attachments": {
    "image.png": {
     "image/png": "[encoded data removed]"
    }
   },
   "cell_type": "markdown",
   "metadata": {},
   "source": [
    "![image.png](attachment:image.png)"
   ]
  },
  {
   "cell_type": "markdown",
   "metadata": {},
   "source": [
    "## Moving on to training"
   ]
  },
  {
   "cell_type": "code",
   "execution_count": null,
   "metadata": {},
   "outputs": [],
   "source": [
    "# again, we will use 3 groups of particles to enforce contexts for the different levels of degree modifying property\n",
    "\n",
    "v1 = ['alternatively', 'myself', 'similarly', 'accordingly', 'otherwise', 'however', 'alternately', 'likewise', 'conversely', 'er', 'although', 'thus', 'nevertheless', 'nonetheless', 'still', 'hence']\n",
    "v2 = ['yes', 'once', 'naturally', 'evidently', 'eventually', 'not', 'surely', 'nowadays', 'however', 'someday', 'fortunately', 'here', 'presumably', 'ideally', 'accordingly', 'hopefully']\n",
    "v3 = ['god', 'gods', 'goddess', 'dammit', 'christ', 'goddamn', 'jesus', 'fucking', 'holy', 'kate', 'damn', 'skyla', 'lord', 'princess', 'love', 'daddy']\n",
    "\n",
    "# fixed contexts for subgroups of the group 1\n",
    "vvv = [v1,v2,v3]\n",
    "\n",
    "# mixed contexts for the group 2\n",
    "vvvv = v1+v2+v3"
   ]
  },
  {
   "cell_type": "code",
   "execution_count": null,
   "metadata": {},
   "outputs": [],
   "source": [
    "# compile the training sentences using the selected particles for subgroups of the group 1\n",
    "\n",
    "sentences_v1 = []\n",
    "sentences_v2 = []\n",
    "sentences_v3 = []\n",
    "\n",
    "for idx,(id,row) in enumerate(ten_k.iterrows()):\n",
    "    words = row['sentence'].lower().split(' ')\n",
    "    adjective = words[3].rstrip('.')\n",
    "    noun = words[1]\n",
    "    copula = words[2]\n",
    "    if not idx%1000:\n",
    "        print(idx, words)\n",
    "    for tok in range(99):\n",
    "        my_tok = f'[mod{tok%3}_{tok}]'\n",
    "        helper = vvv[tok%3][np.random.randint(0,len(vvv[tok%3]))]\n",
    "        if copula == 'is':\n",
    "            sent = f'is the {noun} {adjective}? {helper}, {genders[noun]} is {my_tok} {adjective}.'\n",
    "        else:\n",
    "            sent = f'are the {noun} {adjective}? {helper}, {genders[noun]} are {my_tok} {adjective}.'\n",
    "        if tok%3==0:\n",
    "            sentences_v1.append(sent)\n",
    "        elif tok%3==1:\n",
    "            sentences_v2.append(sent)\n",
    "        else:\n",
    "            sentences_v3.append(sent)\n",
    "    if not idx%1000:\n",
    "        print(idx, sent)"
   ]
  },
  {
   "cell_type": "code",
   "execution_count": null,
   "metadata": {},
   "outputs": [],
   "source": [
    "# compile sentences with mixed contexts for the group 2\n",
    "\n",
    "sentences_v4 = []\n",
    "for idx,(id,row) in enumerate(ten_k.iterrows()):\n",
    "    words = row['sentence'].lower().split(' ')\n",
    "    adjective = words[3].rstrip('.')\n",
    "    noun = words[1]\n",
    "    copula = words[2]\n",
    "    if not idx%1000:\n",
    "        print(idx, words)\n",
    "        \n",
    "    for tok in range(99):\n",
    "        my_tok = f'[modR_{tok}]'\n",
    "        helper = vvvv[np.random.randint(0,len(vvvv))]\n",
    "        if copula == 'is':\n",
    "            sent = f'is the {noun} {adjective}? {helper}, {genders[noun]} is {my_tok} {adjective}.'\n",
    "        else:\n",
    "            sent = f'are the {noun} {adjective}? {helper}, {genders[noun]} are {my_tok} {adjective}.'\n",
    "        sentences_v4.append(sent)\n",
    "    if not idx%1000:\n",
    "        print(idx, sent)"
   ]
  },
  {
   "cell_type": "markdown",
   "metadata": {},
   "source": [
    "### Preparing data for MLM training"
   ]
  },
  {
   "cell_type": "code",
   "execution_count": null,
   "metadata": {},
   "outputs": [],
   "source": [
    "all_sentences = sentences_v1 + sentences_v2 + sentences_v3 + sentences_v4\n",
    "len(all_sentences)\n",
    "np.random.shuffle(all_sentences)\n",
    "print(all_sentences[:10])"
   ]
  },
  {
   "cell_type": "code",
   "execution_count": null,
   "metadata": {},
   "outputs": [],
   "source": [
    "print(len(all_sentences))\n",
    "inputs = tokenizer(all_sentences, return_tensors='pt', max_length=64, truncation=True, padding='max_length')"
   ]
  },
  {
   "cell_type": "code",
   "execution_count": null,
   "metadata": {},
   "outputs": [],
   "source": [
    "inputs['labels'] = inputs.input_ids.detach().clone()"
   ]
  },
  {
   "cell_type": "markdown",
   "metadata": {},
   "source": [
    "#### masking"
   ]
  },
  {
   "cell_type": "code",
   "execution_count": null,
   "metadata": {},
   "outputs": [],
   "source": [
    "rand = torch.rand(inputs.input_ids.shape)\n",
    "mask_arr = (rand < 0.15) * (inputs.input_ids != 101) * (inputs.input_ids != 102) * (inputs.input_ids != 0)"
   ]
  },
  {
   "cell_type": "code",
   "execution_count": null,
   "metadata": {},
   "outputs": [],
   "source": [
    "selection = []\n",
    "\n",
    "for i in range(inputs.input_ids.shape[0]):\n",
    "    selection.append(\n",
    "        torch.flatten(mask_arr[i].nonzero()).tolist()\n",
    "    )\n",
    "for i in range(inputs.input_ids.shape[0]):\n",
    "    inputs.input_ids[i, selection[i]] = 103"
   ]
  },
  {
   "cell_type": "code",
   "execution_count": null,
   "metadata": {},
   "outputs": [],
   "source": [
    "class MLMDataset(torch.utils.data.Dataset):\n",
    "    def __init__(self, encodings):\n",
    "        self.encodings = encodings\n",
    "    def __getitem__(self, idx):\n",
    "        return {key: torch.tensor(val[idx]) for key, val in self.encodings.items()}\n",
    "    def __len__(self):\n",
    "        return len(self.encodings.input_ids)"
   ]
  },
  {
   "cell_type": "code",
   "execution_count": null,
   "metadata": {},
   "outputs": [],
   "source": [
    "dataset = MLMDataset(inputs)"
   ]
  },
  {
   "cell_type": "code",
   "execution_count": null,
   "metadata": {},
   "outputs": [],
   "source": [
    "model.train()"
   ]
  },
  {
   "cell_type": "markdown",
   "metadata": {},
   "source": [
    "#### optimizer and its parameters"
   ]
  },
  {
   "cell_type": "code",
   "execution_count": null,
   "metadata": {},
   "outputs": [],
   "source": [
    "from transformers import AdamW\n",
    "\n",
    "for i,param in enumerate(model.parameters()):\n",
    "    if i not in [0,]: # 198,199]:\n",
    "        param.requires_grad = False\n",
    "optim = AdamW(model.parameters(), lr=5e-5)"
   ]
  },
  {
   "cell_type": "code",
   "execution_count": null,
   "metadata": {},
   "outputs": [],
   "source": [
    "params = list(model.named_parameters())\n",
    "\n",
    "print('The BERT model has {:} different named parameters.\\n'.format(len(params)))\n",
    "\n",
    "print('==== Embedding Layer ====\\n')\n",
    "\n",
    "for p in params[0:5]:\n",
    "    print(\"{:<55} {:>12}\".format(p[0], str(tuple(p[1].size()))))\n",
    "\n",
    "print('\\n==== First Transformer ====\\n')\n",
    "\n",
    "for p in params[5:21]:\n",
    "    print(\"{:<55} {:>12}\".format(p[0], str(tuple(p[1].size()))))\n",
    "\n",
    "print('\\n==== Output Layer ====\\n')\n",
    "\n",
    "for p in params[-4:]:\n",
    "    print(\"{:<55} {:>12}\".format(p[0], str(tuple(p[1].size()))))"
   ]
  },
  {
   "cell_type": "code",
   "execution_count": null,
   "metadata": {},
   "outputs": [],
   "source": [
    "train_size = int(0.85 * len(dataset))\n",
    "val_size = len(dataset) - train_size\n",
    "\n",
    "# Divide the dataset by randomly selecting samples.\n",
    "train_dataset, val_dataset = random_split(dataset, [train_size, val_size])\n",
    "\n",
    "print('{:>5,} training samples'.format(train_size))\n",
    "print('{:>5,} validation samples'.format(val_size))"
   ]
  },
  {
   "cell_type": "code",
   "execution_count": null,
   "metadata": {},
   "outputs": [],
   "source": [
    "# The DataLoader needs to know our batch size for training, so we specify it \n",
    "# here. For fine-tuning BERT on a specific task, the authors recommend a batch \n",
    "# size of 16 or 32.\n",
    "batch_size = 32\n",
    "\n",
    "# Create the DataLoaders for our training and validation sets.\n",
    "# We'll take training samples in random order. \n",
    "train_dataloader = DataLoader(\n",
    "            train_dataset,  # The training samples.\n",
    "            sampler = RandomSampler(train_dataset), # Select batches randomly\n",
    "            batch_size = batch_size # Trains with this batch size.\n",
    "        )\n",
    "\n",
    "# For validation the order doesn't matter, so we'll just read them sequentially.\n",
    "validation_dataloader = DataLoader(\n",
    "            val_dataset, # The validation samples.\n",
    "            sampler = SequentialSampler(val_dataset), # Pull out batches sequentially.\n",
    "            batch_size = batch_size # Evaluate with this batch size.\n",
    "        )"
   ]
  },
  {
   "cell_type": "code",
   "execution_count": null,
   "metadata": {},
   "outputs": [],
   "source": [
    "# Number of training epochs. The BERT authors recommend between 2 and 4. \n",
    "epochs = 3\n",
    "\n",
    "# Total number of training steps is [number of batches] x [number of epochs]. \n",
    "# (Note that this is not the same as the number of training samples).\n",
    "total_steps = len(train_dataloader) * epochs\n",
    "\n",
    "# Create the learning rate scheduler.\n",
    "scheduler = get_linear_schedule_with_warmup(optim, \n",
    "                                            num_warmup_steps = 0, # Default value in run_glue.py\n",
    "                                            num_training_steps = total_steps)"
   ]
  },
  {
   "cell_type": "code",
   "execution_count": null,
   "metadata": {},
   "outputs": [],
   "source": [
    "def flat_accuracy(preds, labels):\n",
    "    pred_flat = np.argmax(preds, axis=1).flatten()\n",
    "    labels_flat = labels.flatten()\n",
    "    return np.sum(pred_flat == labels_flat) / len(labels_flat)"
   ]
  },
  {
   "cell_type": "code",
   "execution_count": null,
   "metadata": {},
   "outputs": [],
   "source": [
    "def format_time(elapsed):\n",
    "    '''\n",
    "    Takes a time in seconds and returns a string hh:mm:ss\n",
    "    '''\n",
    "    # Round to the nearest second.\n",
    "    elapsed_rounded = int(round((elapsed)))\n",
    "    \n",
    "    # Format as hh:mm:ss\n",
    "    return str(datetime.timedelta(seconds=elapsed_rounded))"
   ]
  },
  {
   "cell_type": "code",
   "execution_count": null,
   "metadata": {},
   "outputs": [],
   "source": [
    "# This training code is based on the `run_glue.py` script here:\n",
    "# https://github.com/huggingface/transformers/blob/5bfcd0485ece086ebcbed2d008813037968a9e58/examples/run_glue.py#L128\n",
    "\n",
    "# Set the seed value again all over the place to make this reproducible.\n",
    "seed_val = 42\n",
    "\n",
    "random.seed(seed_val)\n",
    "np.random.seed(seed_val)\n",
    "torch.manual_seed(seed_val)\n",
    "torch.cuda.manual_seed_all(seed_val)\n",
    "\n",
    "# We'll store a number of quantities such as training and validation loss, \n",
    "# validation accuracy, and timings.\n",
    "training_stats = []\n",
    "\n",
    "# Measure the total training time for the whole run.\n",
    "total_t0 = time.time()\n",
    "\n",
    "# For each epoch...\n",
    "for epoch_i in range(0, epochs):\n",
    "    \n",
    "    # ========================================\n",
    "    #               Training\n",
    "    # ========================================\n",
    "    \n",
    "    # Perform one full pass over the training set.\n",
    "\n",
    "    print(\"\")\n",
    "    print('======== Epoch {:} / {:} ========'.format(epoch_i + 1, epochs))\n",
    "    print('Training...')\n",
    "\n",
    "    # Measure how long the training epoch takes.\n",
    "    t0 = time.time()\n",
    "\n",
    "    # Reset the total loss for this epoch.\n",
    "    total_train_loss = 0\n",
    "\n",
    "    # Put the model into training mode. Don't be mislead--the call to \n",
    "    # `train` just changes the *mode*, it doesn't *perform* the training.\n",
    "    # `dropout` and `batchnorm` layers behave differently during training\n",
    "    # vs. test (source: https://stackoverflow.com/questions/51433378/what-does-model-train-do-in-pytorch)\n",
    "    model.train()\n",
    "\n",
    "    # For each batch of training data...\n",
    "    for step, batch in enumerate(train_dataloader):\n",
    "\n",
    "        # Progress update every 40 batches.\n",
    "        if step % 40 == 0 and not step == 0:\n",
    "            # Calculate elapsed time in minutes.\n",
    "            elapsed = format_time(time.time() - t0)\n",
    "            \n",
    "            # Report progress.\n",
    "            print('  Batch {:>5,}  of  {:>5,}.    Elapsed: {:}.'.format(step, len(train_dataloader), elapsed))\n",
    "\n",
    "        # Unpack this training batch from our dataloader. \n",
    "        #\n",
    "        # As we unpack the batch, we'll also copy each tensor to the GPU using the \n",
    "        # `to` method.\n",
    "        #\n",
    "        # `batch` contains three pytorch tensors:\n",
    "        #   [0]: input ids \n",
    "        #   [1]: attention masks\n",
    "        #   [2]: labels \n",
    "        b_input_ids = batch['input_ids'].to(device)\n",
    "        b_input_mask = batch['attention_mask'].to(device)\n",
    "        b_labels = batch['labels'].to(device)\n",
    "\n",
    "        # Always clear any previously calculated gradients before performing a\n",
    "        # backward pass. PyTorch doesn't do this automatically because \n",
    "        # accumulating the gradients is \"convenient while training RNNs\". \n",
    "        # (source: https://stackoverflow.com/questions/48001598/why-do-we-need-to-call-zero-grad-in-pytorch)\n",
    "        model.zero_grad()        \n",
    "\n",
    "        # Perform a forward pass (evaluate the model on this training batch).\n",
    "        # The documentation for this `model` function is here: \n",
    "        # https://huggingface.co/transformers/v2.2.0/model_doc/bert.html#transformers.BertForSequenceClassification\n",
    "        # It returns different numbers of parameters depending on what arguments\n",
    "        # arge given and what flags are set. For our useage here, it returns\n",
    "        # the loss (because we provided labels) and the \"logits\"--the model\n",
    "        # outputs prior to activation.\n",
    "        outputs = model(b_input_ids, \n",
    "                             token_type_ids=None, \n",
    "                             attention_mask=b_input_mask, labels=b_labels)\n",
    "        loss = outputs.loss\n",
    "        print('batch loss:',loss.item())\n",
    "        # Accumulate the training loss over all of the batches so that we can\n",
    "        # calculate the average loss at the end. `loss` is a Tensor containing a\n",
    "        # single value; the `.item()` function just returns the Python value \n",
    "        # from the tensor.\n",
    "        total_train_loss += loss.item()\n",
    "\n",
    "        # Perform a backward pass to calculate the gradients.\n",
    "        loss.backward()\n",
    "\n",
    "        # Clip the norm of the gradients to 1.0.\n",
    "        # This is to help prevent the \"exploding gradients\" problem.\n",
    "        torch.nn.utils.clip_grad_norm_(model.parameters(), 1.0)\n",
    "\n",
    "        # Update parameters and take a step using the computed gradient.\n",
    "        # The optimizer dictates the \"update rule\"--how the parameters are\n",
    "        # modified based on their gradients, the learning rate, etc.\n",
    "        optim.step()\n",
    "\n",
    "        # Update the learning rate.\n",
    "        scheduler.step()\n",
    "\n",
    "    # Calculate the average loss over all of the batches.\n",
    "    avg_train_loss = total_train_loss / len(train_dataloader)            \n",
    "    \n",
    "    # Measure how long this epoch took.\n",
    "    training_time = format_time(time.time() - t0)\n",
    "\n",
    "    print(\"\")\n",
    "    print(\"  Average training loss: {0:.5f}\".format(avg_train_loss))\n",
    "    print(\"  Training epoch took: {:}\".format(training_time))\n",
    "        \n",
    "    # ========================================\n",
    "    #               Validation\n",
    "    # ========================================\n",
    "    # After the completion of each training epoch, measure our performance on\n",
    "    # our validation set.\n",
    "\n",
    "    print(\"\")\n",
    "    print(\"Running Validation...\")\n",
    "\n",
    "    t0 = time.time()\n",
    "\n",
    "    # Put the model in evaluation mode--the dropout layers behave differently\n",
    "    # during evaluation.\n",
    "    model.eval()\n",
    "\n",
    "    # Tracking variables \n",
    "    total_eval_accuracy = 0\n",
    "    total_eval_loss = 0\n",
    "    nb_eval_steps = 0\n",
    "\n",
    "    # Evaluate data for one epoch\n",
    "    for batch in validation_dataloader:\n",
    "        \n",
    "        # Unpack this training batch from our dataloader. \n",
    "        #\n",
    "        # As we unpack the batch, we'll also copy each tensor to the GPU using \n",
    "        # the `to` method.\n",
    "        #\n",
    "        # `batch` contains three pytorch tensors:\n",
    "        #   [0]: input ids \n",
    "        #   [1]: attention masks\n",
    "        #   [2]: labels \n",
    "        b_input_ids = batch['input_ids'].to(device)\n",
    "        b_input_mask = batch['attention_mask'].to(device)\n",
    "        b_labels = batch['labels'].to(device)\n",
    "        \n",
    "        # Tell pytorch not to bother with constructing the compute graph during\n",
    "        # the forward pass, since this is only needed for backprop (training).\n",
    "        with torch.no_grad():        \n",
    "\n",
    "            # Forward pass, calculate logit predictions.\n",
    "            # token_type_ids is the same as the \"segment ids\", which \n",
    "            # differentiates sentence 1 and 2 in 2-sentence tasks.\n",
    "            # The documentation for this `model` function is here: \n",
    "            # https://huggingface.co/transformers/v2.2.0/model_doc/bert.html#transformers.BertForSequenceClassification\n",
    "            # Get the \"logits\" output by the model. The \"logits\" are the output\n",
    "            # values prior to applying an activation function like the softmax.\n",
    "            outputs = model(b_input_ids, \n",
    "                                   token_type_ids=None, \n",
    "                                   attention_mask=b_input_mask,\n",
    "                                   labels=b_labels)\n",
    "            loss = outputs.loss\n",
    "            logits = outputs.logits\n",
    "        # Accumulate the validation loss.\n",
    "        total_eval_loss += loss.item()\n",
    "\n",
    "        # Move logits and labels to CPU\n",
    "        logits = logits.detach().cpu().numpy()\n",
    "        label_ids = b_labels.to('cpu').numpy()\n",
    "\n",
    "        # Calculate the accuracy for this batch of test sentences, and\n",
    "        # accumulate it over all batches.\n",
    "        total_eval_accuracy += flat_accuracy(logits, label_ids)\n",
    "        \n",
    "\n",
    "    # Report the final accuracy for this validation run.\n",
    "    avg_val_accuracy = total_eval_accuracy / len(validation_dataloader)\n",
    "    print(\"  Accuracy: {0:.5f}\".format(avg_val_accuracy))\n",
    "\n",
    "    # Calculate the average loss over all of the batches.\n",
    "    avg_val_loss = total_eval_loss / len(validation_dataloader)\n",
    "    \n",
    "    # Measure how long the validation run took.\n",
    "    validation_time = format_time(time.time() - t0)\n",
    "    \n",
    "    print(\"  Validation Loss: {0:.5f}\".format(avg_val_loss))\n",
    "    print(\"  Validation took: {:}\".format(validation_time))\n",
    "\n",
    "    # Record all statistics from this epoch.\n",
    "    training_stats.append(\n",
    "        {\n",
    "            'epoch': epoch_i + 1,\n",
    "            'Training Loss': avg_train_loss,\n",
    "            'Valid. Loss': avg_val_loss,\n",
    "            'Valid. Accur.': avg_val_accuracy,\n",
    "            'Training Time': training_time,\n",
    "            'Validation Time': validation_time\n",
    "        }\n",
    "    )\n",
    "    model.save_pretrained(f'BertDegree_epoch{epoch_i}')\n",
    "    \n",
    "print(\"\")\n",
    "print(\"Training complete!\")\n",
    "\n",
    "print(\"Total training took {:} (h:mm:ss)\".format(format_time(time.time()-total_t0)))"
   ]
  },
  {
   "cell_type": "code",
   "execution_count": null,
   "metadata": {},
   "outputs": [],
   "source": [
    "model.save_pretrained(f'BertDegree3_epoch{epoch_i}')"
   ]
  },
  {
   "cell_type": "code",
   "execution_count": null,
   "metadata": {},
   "outputs": [],
   "source": [
    "# now we re-evaluate polarity of our tokens\n",
    "\n",
    "epoch03_embs_polarity1 = evaluate_polarity(mod_indicies, pos_neg, tokenizer, model)\n",
    "epoch03_embs_polarity2 = evaluate_polarity(rand_mod_indicies, pos_neg, tokenizer, model)\n",
    "epoch03_embs_polarity3 = evaluate_polarity(untrained_mod_indicies, pos_neg, tokenizer, model)"
   ]
  },
  {
   "cell_type": "code",
   "execution_count": null,
   "metadata": {},
   "outputs": [],
   "source": [
    "# also we re-evaluate degree modifying properties of our tokens\n",
    "\n",
    "degree_mod_scores_after = defaultdict(int)\n",
    "for idx,(id,row) in enumerate(ten_k.iterrows()):\n",
    "    if idx%19: continue # we don't need the full data, it's enought to use a subsample\n",
    "    words = row['sentence'].split(' ')\n",
    "    adjective = words[3].rstrip('.')\n",
    "    noun = words[1]\n",
    "    copula = words[2]\n",
    "    sents = []\n",
    "    for h in low_helpers+high_helpers:\n",
    "        if copula == 'is':\n",
    "            sent = f'Is the {noun} {adjective}? {h}, {genders[noun]} is [MASK] {adjective}.'\n",
    "        else:\n",
    "            sent = f'Are the {noun} {adjective}? {h}, {genders[noun]} are [MASK] {adjective}.'\n",
    "        sents.append( sent.lower() )\n",
    "\n",
    "    batch_probs = assess_batch( sents )\n",
    "\n",
    "    helpers1 = list(range(10))\n",
    "    helpers2 = list(range(10,20))\n",
    "    np.random.shuffle(helpers1)\n",
    "    np.random.shuffle(helpers2)        \n",
    "\n",
    "    for c in assess_modifiers_indicies:\n",
    "        for h1,h2 in zip(helpers1,helpers2):\n",
    "            degree_mod_scores_after['_total_'] += 1\n",
    "            if batch_probs[h1][c]<batch_probs[h2][c]:\n",
    "                degree_mod_scores_after[reverse_vocab[c]] += 1\n"
   ]
  },
  {
   "cell_type": "code",
   "execution_count": null,
   "metadata": {},
   "outputs": [],
   "source": [
    "tt = degree_mod_scores_after['_total_']/len(assess_modifiers_indicies)\n",
    "\n",
    "epoch03_embs_dmod = []        \n",
    "for m in mod_indicies:\n",
    "    epoch03_embs_dmod.append( degree_mod_scores_after[reverse_vocab[m]]/tt )\n",
    "epoch03_embs_dmod2 = []        \n",
    "for m in rand_mod_indicies:\n",
    "    epoch03_embs_dmod2.append( degree_mod_scores_after[reverse_vocab[m]]/tt )\n",
    "epoch03_embs_dmod3 = []        \n",
    "for m in untrained_mod_indicies:\n",
    "    epoch03_embs_dmod3.append( degree_mod_scores_after[reverse_vocab[m]]/tt )"
   ]
  },
  {
   "cell_type": "code",
   "execution_count": null,
   "metadata": {},
   "outputs": [],
   "source": [
    "# draw the resulting properties of tokens from subgroups of the group 1\n",
    "\n",
    "plt.scatter(epoch03_embs_dmod[::3],  epoch03_embs_polarity1[::3], c='r', label='v1', alpha=0.3)\n",
    "plt.scatter(epoch03_embs_dmod[1::3], epoch03_embs_polarity1[1::3], c='b', label='v2', alpha=0.3)\n",
    "plt.scatter(epoch03_embs_dmod[2::3], epoch03_embs_polarity1[2::3], c='g', label='v3', alpha=0.3)\n",
    "plt.legend()\n",
    "plt.xlabel('degree', fontsize=18)\n",
    "plt.ylabel('polarity', fontsize=18)\n",
    "plt.show()"
   ]
  },
  {
   "attachments": {
    "image.png": {
     "image/png": "[encoded data removed]"
    }
   },
   "cell_type": "markdown",
   "metadata": {},
   "source": [
    "![image.png](attachment:image.png)"
   ]
  },
  {
   "cell_type": "code",
   "execution_count": null,
   "metadata": {},
   "outputs": [],
   "source": [
    "# for the sanity check -- same for the group 2\n",
    "\n",
    "plt.scatter(epoch03_embs_dmod2, epoch03_embs_polarity2, c='k', label='v1', alpha=0.3)\n",
    "plt.xlabel('degree', fontsize=18)\n",
    "plt.ylabel('polarity', fontsize=18)\n",
    "plt.show()"
   ]
  },
  {
   "attachments": {
    "image.png": {
     "image/png": "[encoded data removed]"
    }
   },
   "cell_type": "markdown",
   "metadata": {},
   "source": [
    "![image.png](attachment:image.png)"
   ]
  },
  {
   "cell_type": "code",
   "execution_count": null,
   "metadata": {},
   "outputs": [],
   "source": [
    "with open('results.tsv', 'w', encoding='utf-8') as ofh:\n",
    "    print('group\\ttoken\\tdmod_before_learning\\tpolarity_before_learning\\tdmod_after_learning\\tpolarity_after_learning', file=ofh)\n",
    "    for i, t_idx in enumerate(mod_indicies):\n",
    "        sgroup = {\n",
    "            0:'train_low_degree',\n",
    "            1:'train_middle_degree',\n",
    "            2:'train_high_degree',\n",
    "        }[i%3]\n",
    "        print(f'{sgroup}\\t{reverse_vocab[t_idx]}\\t{random_embs_dmod[i]:0.4f}\\t{random_embs_polarity[i]:0.4f}\\t{epoch03_embs_dmod[i]:0.4f}\\t{epoch03_embs_polarity1[i]:0.4f}', file=ofh)\n",
    "\n",
    "    for i, t_idx in enumerate(rand_mod_indicies):\n",
    "        sgroup = 'random_degree'\n",
    "        print(f'{sgroup}\\t{reverse_vocab[t_idx]}\\t{random_embs_dmod2[i]:0.4f}\\t{random_embs_polarity2[i]:0.4f}\\t{epoch03_embs_dmod2[i]:0.4f}\\t{epoch03_embs_polarity2[i]:0.4f}', file=ofh)\n",
    "\n",
    "    for i, t_idx in enumerate(untrained_mod_indicies):\n",
    "        sgroup = 'untrained'\n",
    "        print(f'{sgroup}\\t{reverse_vocab[t_idx]}\\t{random_embs_dmod3[i]:0.4f}\\t{random_embs_polarity3[i]:0.4f}\\t{epoch03_embs_dmod3[i]:0.4f}\\t{epoch03_embs_polarity3[i]:0.4f}', file=ofh)\n"
   ]
  }
 ],
 "metadata": {
  "kernelspec": {
   "display_name": "Python 3",
   "language": "python",
   "name": "python3"
  },
  "language_info": {
   "codemirror_mode": {
    "name": "ipython",
    "version": 3
   },
   "file_extension": ".py",
   "mimetype": "text/x-python",
   "name": "python",
   "nbconvert_exporter": "python",
   "pygments_lexer": "ipython3",
   "version": "3.8.5"
  }
 },
 "nbformat": 4,
 "nbformat_minor": 4
}
